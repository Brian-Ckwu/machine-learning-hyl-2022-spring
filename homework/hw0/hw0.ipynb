{
 "cells": [
  {
   "cell_type": "markdown",
   "metadata": {},
   "source": [
    "## Import Packages"
   ]
  },
  {
   "cell_type": "code",
   "execution_count": 1,
   "metadata": {},
   "outputs": [
    {
     "name": "stderr",
     "output_type": "stream",
     "text": [
      "Matplotlib created a temporary config/cache directory at /tmp/matplotlib-h5bkf8xb because the default path (/home/ckwu/.config/matplotlib) is not a writable directory; it is highly recommended to set the MPLCONFIGDIR environment variable to a writable directory, in particular to speed up the import of Matplotlib and to better support multiprocessing.\n"
     ]
    }
   ],
   "source": [
    "# PyTorch\n",
    "import torch\n",
    "import torch.nn as nn\n",
    "from torch.utils.data import Dataset, DataLoader\n",
    "\n",
    "# For data preprocess\n",
    "import numpy as np\n",
    "import csv\n",
    "import os\n",
    "\n",
    "# For plotting\n",
    "import matplotlib.pyplot as plt\n",
    "from matplotlib.pyplot import figure\n",
    "\n",
    "# utility functions\n",
    "from utils import get_device, plot_learning_curve, plot_pred\n",
    "\n",
    "myseed = 42069  # set a random seed for reproducibility\n",
    "torch.backends.cudnn.deterministic = True\n",
    "torch.backends.cudnn.benchmark = False\n",
    "np.random.seed(myseed)\n",
    "torch.manual_seed(myseed)\n",
    "if torch.cuda.is_available():\n",
    "    torch.cuda.manual_seed_all(myseed)"
   ]
  },
  {
   "cell_type": "markdown",
   "metadata": {},
   "source": [
    "## Dataset Class\n",
    "1. Read dataset files\n",
    "2. Extract features\n",
    "3. Convert to train/dev/test sets\n",
    "4. Normalize features"
   ]
  },
  {
   "cell_type": "code",
   "execution_count": 169,
   "metadata": {},
   "outputs": [],
   "source": [
    "class COVID19Dataset(Dataset):\n",
    "    def __init__(self,\n",
    "                 path, # dataset file\n",
    "                 mode=\"train\", # train/dev/test\n",
    "                 target_only=False): # whether use the target features\n",
    "        self.mode = mode\n",
    "\n",
    "        # read the data\n",
    "        with open(path, \"r\") as fp:\n",
    "            data = list(csv.reader(fp))\n",
    "            data = np.array(data[1:])[:, 1:].astype(float)\n",
    "        \n",
    "        # set the feature columns\n",
    "        if not target_only:\n",
    "            feature_cols = list(range(93))\n",
    "        else:\n",
    "            feature_cols = list(range(40)) + [57, 75]\n",
    "\n",
    "        # convert to tensors (test/dev/test ready format)\n",
    "        if mode == \"test\":\n",
    "            data = data[:, feature_cols] # extract features\n",
    "            self.data = torch.FloatTensor(data) # for other functions (e.g. __getitem__) to use\n",
    "        else:\n",
    "            target = data[:, -1] # labels\n",
    "            data = data[:, feature_cols] # cannot execute this line first, or else the target is incorrect\n",
    "            \n",
    "            # 9/1 split\n",
    "            if mode == \"train\":\n",
    "                indices = [i for i in range(len(data)) if i % 3 != 0]\n",
    "            elif mode == \"dev\":\n",
    "                indices = [i for i in range(len(data)) if i % 3 == 0]\n",
    "            else:\n",
    "                raise ValueError(\"The argument 'mode' must be either train/dev/test.\")\n",
    "            \n",
    "            self.data = torch.FloatTensor(data[indices]) #, dtype=torch.float)\n",
    "            self.target = torch.FloatTensor(target[indices]) #, dtype=torch.float)\n",
    "\n",
    "        # normalize features (do not need to normalize the first 40 one-hot features)\n",
    "        # self.data[:, 40:] = (self.data[:, 40:] - self.data[:, 40:].mean(dim=0, keepdim=True)) / self.data[:, 40:].std(dim=0, keepdim=True)\n",
    "        self.data[:, 40:] = \\\n",
    "            (self.data[:, 40:] - self.data[:, 40:].mean(dim=0, keepdim=True)) \\\n",
    "            / self.data[:, 40:].std(dim=0, keepdim=True)        \n",
    "\n",
    "        # print success message\n",
    "        self.dim = self.data.shape[1]\n",
    "        print(f\"Finish loading the {self.mode} set of COVID19 Dataset. ({len(self.data)} samples found, each with {self.dim} dim)\")\n",
    "    \n",
    "    def __len__(self):\n",
    "        return len(self.data)\n",
    "    \n",
    "    def __getitem__(self, idx):\n",
    "        if self.mode == \"test\":\n",
    "            return self.data[idx]\n",
    "        else:\n",
    "            return self.data[idx], self.target[idx]"
   ]
  },
  {
   "cell_type": "markdown",
   "metadata": {},
   "source": [
    "## DataLoader"
   ]
  },
  {
   "cell_type": "code",
   "execution_count": 170,
   "metadata": {},
   "outputs": [],
   "source": [
    "def get_dataloader(path, mode, target_only=False, batch_size=32, n_jobs=0):\n",
    "    dataset = COVID19Dataset(path, mode, target_only)\n",
    "    shuffle = mode == \"train\"\n",
    "    return DataLoader(dataset, batch_size, shuffle, num_workers=n_jobs, pin_memory=True, drop_last=False)"
   ]
  },
  {
   "cell_type": "markdown",
   "metadata": {},
   "source": [
    "## Build the DNN Model"
   ]
  },
  {
   "cell_type": "code",
   "execution_count": 186,
   "metadata": {},
   "outputs": [],
   "source": [
    "class RegressionDNN(nn.Module):\n",
    "    def __init__(self, input_dim):\n",
    "        super(RegressionDNN, self).__init__()\n",
    "\n",
    "        # try different model structure\n",
    "        self.net = nn.Sequential(\n",
    "            nn.Linear(input_dim, 64),\n",
    "            nn.ReLU(),\n",
    "            nn.Linear(64, 1),\n",
    "        )\n",
    "\n",
    "        self.criterion = nn.MSELoss(reduction=\"mean\")\n",
    "    \n",
    "    def forward(self, x):\n",
    "        return self.net(x).squeeze(1)\n",
    "    \n",
    "    def cal_loss(self, pred, target):\n",
    "        return self.criterion(pred, target)"
   ]
  },
  {
   "cell_type": "markdown",
   "metadata": {},
   "source": [
    "## Train/Dev/Test Functions"
   ]
  },
  {
   "cell_type": "code",
   "execution_count": 187,
   "metadata": {},
   "outputs": [],
   "source": [
    "def train(tr_set, dv_set, model, config, device):\n",
    "    ''' DNN training '''\n",
    "\n",
    "    n_epochs = config['n_epochs']  # Maximum number of epochs\n",
    "\n",
    "    # Setup optimizer\n",
    "    optimizer = getattr(torch.optim, config['optimizer'])(\n",
    "        model.parameters(), **config['optim_hparas'])\n",
    "\n",
    "    min_mse = 1000.\n",
    "    loss_record = {'train': [], 'dev': []}      # for recording training loss\n",
    "    early_stop_cnt = 0\n",
    "    epoch = 0\n",
    "    while epoch < n_epochs:\n",
    "        model.train()                           # set model to training mode\n",
    "        for x, y in tr_set:                     # iterate through the dataloader\n",
    "            optimizer.zero_grad()               # set gradient to zero\n",
    "            x, y = x.to(device), y.to(device)   # move data to device (cpu/cuda)\n",
    "            pred = model(x)                     # forward pass (compute output)\n",
    "            mse_loss = model.cal_loss(pred, y)  # compute loss\n",
    "            mse_loss.backward()                 # compute gradient (backpropagation)\n",
    "            optimizer.step()                    # update model with optimizer\n",
    "            loss_record['train'].append(mse_loss.detach().cpu().item())\n",
    "\n",
    "        # After each epoch, test your model on the validation (development) set.\n",
    "        dev_mse = dev(dv_set, model, device)\n",
    "        if dev_mse < min_mse:\n",
    "            # Save model if your model improved\n",
    "            min_mse = dev_mse\n",
    "            print('Saving model (epoch = {:4d}, loss = {:.4f})'\n",
    "                .format(epoch + 1, min_mse))\n",
    "            torch.save(model.state_dict(), config['save_path'])  # Save model to specified path\n",
    "            early_stop_cnt = 0\n",
    "        else:\n",
    "            early_stop_cnt += 1\n",
    "\n",
    "        epoch += 1\n",
    "        loss_record['dev'].append(dev_mse)\n",
    "        if early_stop_cnt > config['early_stop']:\n",
    "            # Stop training if your model stops improving for \"config['early_stop']\" epochs.\n",
    "            break\n",
    "\n",
    "    print('Finished training after {} epochs'.format(epoch))\n",
    "    return min_mse, loss_record"
   ]
  },
  {
   "cell_type": "code",
   "execution_count": 188,
   "metadata": {},
   "outputs": [],
   "source": [
    "def dev(dv_set, model, device):\n",
    "    model.eval()                                # set model to evalutation mode\n",
    "    total_loss = 0\n",
    "    for x, y in dv_set:                         # iterate through the dataloader\n",
    "        x, y = x.to(device), y.to(device)       # move data to device (cpu/cuda)\n",
    "        with torch.no_grad():                   # disable gradient calculation\n",
    "            pred = model(x)                     # forward pass (compute output)\n",
    "            mse_loss = model.cal_loss(pred, y)  # compute loss\n",
    "        total_loss += mse_loss.detach().cpu().item() * len(x)  # accumulate loss\n",
    "    total_loss = total_loss / len(dv_set.dataset)              # compute averaged loss\n",
    "\n",
    "    return total_loss"
   ]
  },
  {
   "cell_type": "code",
   "execution_count": 189,
   "metadata": {},
   "outputs": [],
   "source": [
    "def test(tt_set, model, device):\n",
    "    model.eval()                                # set model to evalutation mode\n",
    "    preds = []\n",
    "    for x in tt_set:                            # iterate through the dataloader\n",
    "        x = x.to(device)                        # move data to device (cpu/cuda)\n",
    "        with torch.no_grad():                   # disable gradient calculation\n",
    "            pred = model(x)                     # forward pass (compute output)\n",
    "            preds.append(pred.detach().cpu())   # collect prediction\n",
    "    preds = torch.cat(preds, dim=0).numpy()     # concatenate all predictions and convert to a numpy array\n",
    "    return preds"
   ]
  },
  {
   "cell_type": "markdown",
   "metadata": {},
   "source": [
    "## Hyper-Parameters"
   ]
  },
  {
   "cell_type": "code",
   "execution_count": 191,
   "metadata": {},
   "outputs": [],
   "source": [
    "device = get_device()                 # get the current available device ('cpu' or 'cuda')\n",
    "os.makedirs('models', exist_ok=True)  # The trained model will be saved to ./models/\n",
    "target_only = True                    # TODO: Using 40 states & 2 tested_positive features\n",
    "\n",
    "# TODO: How to tune these hyper-parameters to improve your model's performance?\n",
    "config = {\n",
    "    'n_epochs': 3000,                # maximum number of epochs\n",
    "    'batch_size': 64,                # mini-batch size for dataloader\n",
    "    'optimizer': 'SGD',              # optimization algorithm (optimizer in torch.optim)\n",
    "    'optim_hparas': {                # hyper-parameters for the optimizer (depends on which optimizer you are using)\n",
    "        'lr': 0.001,                 # learning rate of SGD\n",
    "        # 'momentum': 0.9            # momentum for SGD\n",
    "    },\n",
    "    'early_stop': 200,               # early stopping epochs (the number epochs since your model's last improvement)\n",
    "    'save_path': 'models/two_layers_2.pth'  # your model will be saved here\n",
    "}"
   ]
  },
  {
   "cell_type": "markdown",
   "metadata": {},
   "source": [
    "## Load Data and Model"
   ]
  },
  {
   "cell_type": "code",
   "execution_count": 192,
   "metadata": {},
   "outputs": [
    {
     "name": "stdout",
     "output_type": "stream",
     "text": [
      "Finish loading the train set of COVID19 Dataset. (1800 samples found, each with 42 dim)\n",
      "Finish loading the dev set of COVID19 Dataset. (900 samples found, each with 42 dim)\n",
      "Finish loading the test set of COVID19 Dataset. (893 samples found, each with 42 dim)\n"
     ]
    }
   ],
   "source": [
    "tr_path = \"./data/covid_train.csv\"\n",
    "tt_path = \"./data/covid_test.csv\"\n",
    "\n",
    "tr_set = get_dataloader(tr_path, mode='train', batch_size=config['batch_size'], target_only=target_only)\n",
    "dv_set = get_dataloader(tr_path, mode='dev', batch_size=config['batch_size'], target_only=target_only)\n",
    "tt_set = get_dataloader(tt_path, mode='test', batch_size=config['batch_size'], target_only=target_only)\n",
    "\n",
    "model = RegressionDNN(tr_set.dataset.dim).to(device)"
   ]
  },
  {
   "cell_type": "markdown",
   "metadata": {},
   "source": [
    "## Start Training"
   ]
  },
  {
   "cell_type": "code",
   "execution_count": 193,
   "metadata": {},
   "outputs": [
    {
     "name": "stdout",
     "output_type": "stream",
     "text": [
      "Saving model (epoch =    1, loss = 261.5354)\n",
      "Saving model (epoch =    2, loss = 113.7167)\n",
      "Saving model (epoch =    3, loss = 19.0285)\n",
      "Saving model (epoch =    4, loss = 6.5163)\n",
      "Saving model (epoch =    5, loss = 3.8883)\n",
      "Saving model (epoch =    6, loss = 3.0997)\n",
      "Saving model (epoch =    7, loss = 2.7567)\n",
      "Saving model (epoch =    8, loss = 2.5262)\n",
      "Saving model (epoch =    9, loss = 2.3424)\n",
      "Saving model (epoch =   10, loss = 2.2068)\n",
      "Saving model (epoch =   11, loss = 2.0977)\n",
      "Saving model (epoch =   12, loss = 2.0127)\n",
      "Saving model (epoch =   13, loss = 1.9389)\n",
      "Saving model (epoch =   14, loss = 1.8780)\n",
      "Saving model (epoch =   15, loss = 1.8262)\n",
      "Saving model (epoch =   16, loss = 1.7840)\n",
      "Saving model (epoch =   17, loss = 1.7448)\n",
      "Saving model (epoch =   18, loss = 1.7187)\n",
      "Saving model (epoch =   19, loss = 1.6863)\n",
      "Saving model (epoch =   20, loss = 1.6618)\n",
      "Saving model (epoch =   21, loss = 1.6326)\n",
      "Saving model (epoch =   22, loss = 1.6142)\n",
      "Saving model (epoch =   23, loss = 1.5894)\n",
      "Saving model (epoch =   24, loss = 1.5657)\n",
      "Saving model (epoch =   25, loss = 1.5511)\n",
      "Saving model (epoch =   26, loss = 1.5345)\n",
      "Saving model (epoch =   28, loss = 1.5092)\n",
      "Saving model (epoch =   29, loss = 1.5015)\n",
      "Saving model (epoch =   30, loss = 1.4900)\n",
      "Saving model (epoch =   31, loss = 1.4752)\n",
      "Saving model (epoch =   32, loss = 1.4721)\n",
      "Saving model (epoch =   33, loss = 1.4585)\n",
      "Saving model (epoch =   35, loss = 1.4450)\n",
      "Saving model (epoch =   36, loss = 1.4258)\n",
      "Saving model (epoch =   38, loss = 1.4153)\n",
      "Saving model (epoch =   39, loss = 1.4004)\n",
      "Saving model (epoch =   41, loss = 1.3888)\n",
      "Saving model (epoch =   42, loss = 1.3796)\n",
      "Saving model (epoch =   44, loss = 1.3795)\n",
      "Saving model (epoch =   45, loss = 1.3680)\n",
      "Saving model (epoch =   46, loss = 1.3566)\n",
      "Saving model (epoch =   47, loss = 1.3566)\n",
      "Saving model (epoch =   48, loss = 1.3469)\n",
      "Saving model (epoch =   49, loss = 1.3396)\n",
      "Saving model (epoch =   51, loss = 1.3337)\n",
      "Saving model (epoch =   52, loss = 1.3322)\n",
      "Saving model (epoch =   53, loss = 1.3255)\n",
      "Saving model (epoch =   54, loss = 1.3216)\n",
      "Saving model (epoch =   56, loss = 1.3125)\n",
      "Saving model (epoch =   57, loss = 1.3065)\n",
      "Saving model (epoch =   59, loss = 1.3014)\n",
      "Saving model (epoch =   60, loss = 1.2989)\n",
      "Saving model (epoch =   61, loss = 1.2927)\n",
      "Saving model (epoch =   62, loss = 1.2921)\n",
      "Saving model (epoch =   63, loss = 1.2889)\n",
      "Saving model (epoch =   64, loss = 1.2875)\n",
      "Saving model (epoch =   66, loss = 1.2819)\n",
      "Saving model (epoch =   67, loss = 1.2753)\n",
      "Saving model (epoch =   68, loss = 1.2733)\n",
      "Saving model (epoch =   70, loss = 1.2644)\n",
      "Saving model (epoch =   73, loss = 1.2626)\n",
      "Saving model (epoch =   74, loss = 1.2554)\n",
      "Saving model (epoch =   75, loss = 1.2502)\n",
      "Saving model (epoch =   78, loss = 1.2458)\n",
      "Saving model (epoch =   81, loss = 1.2438)\n",
      "Saving model (epoch =   82, loss = 1.2368)\n",
      "Saving model (epoch =   84, loss = 1.2337)\n",
      "Saving model (epoch =   85, loss = 1.2334)\n",
      "Saving model (epoch =   86, loss = 1.2279)\n",
      "Saving model (epoch =   87, loss = 1.2251)\n",
      "Saving model (epoch =   90, loss = 1.2242)\n",
      "Saving model (epoch =   91, loss = 1.2184)\n",
      "Saving model (epoch =   92, loss = 1.2173)\n",
      "Saving model (epoch =   93, loss = 1.2172)\n",
      "Saving model (epoch =   96, loss = 1.2162)\n",
      "Saving model (epoch =   97, loss = 1.2139)\n",
      "Saving model (epoch =   99, loss = 1.2124)\n",
      "Saving model (epoch =  100, loss = 1.2079)\n",
      "Saving model (epoch =  101, loss = 1.2008)\n",
      "Saving model (epoch =  106, loss = 1.1997)\n",
      "Saving model (epoch =  107, loss = 1.1974)\n",
      "Saving model (epoch =  110, loss = 1.1900)\n",
      "Saving model (epoch =  111, loss = 1.1875)\n",
      "Saving model (epoch =  115, loss = 1.1830)\n",
      "Saving model (epoch =  119, loss = 1.1814)\n",
      "Saving model (epoch =  120, loss = 1.1778)\n",
      "Saving model (epoch =  127, loss = 1.1744)\n",
      "Saving model (epoch =  130, loss = 1.1726)\n",
      "Saving model (epoch =  133, loss = 1.1685)\n",
      "Saving model (epoch =  134, loss = 1.1679)\n",
      "Saving model (epoch =  139, loss = 1.1666)\n",
      "Saving model (epoch =  144, loss = 1.1602)\n",
      "Saving model (epoch =  154, loss = 1.1580)\n",
      "Saving model (epoch =  155, loss = 1.1553)\n",
      "Saving model (epoch =  161, loss = 1.1515)\n",
      "Saving model (epoch =  163, loss = 1.1491)\n",
      "Saving model (epoch =  166, loss = 1.1464)\n",
      "Saving model (epoch =  177, loss = 1.1422)\n",
      "Saving model (epoch =  184, loss = 1.1419)\n",
      "Saving model (epoch =  185, loss = 1.1408)\n",
      "Saving model (epoch =  189, loss = 1.1389)\n",
      "Saving model (epoch =  192, loss = 1.1377)\n",
      "Saving model (epoch =  207, loss = 1.1364)\n",
      "Saving model (epoch =  217, loss = 1.1359)\n",
      "Saving model (epoch =  218, loss = 1.1315)\n",
      "Saving model (epoch =  247, loss = 1.1297)\n",
      "Saving model (epoch =  256, loss = 1.1284)\n",
      "Saving model (epoch =  260, loss = 1.1283)\n",
      "Saving model (epoch =  272, loss = 1.1273)\n",
      "Saving model (epoch =  289, loss = 1.1245)\n",
      "Saving model (epoch =  303, loss = 1.1237)\n",
      "Saving model (epoch =  344, loss = 1.1228)\n",
      "Saving model (epoch =  396, loss = 1.1226)\n",
      "Saving model (epoch =  413, loss = 1.1223)\n",
      "Saving model (epoch =  539, loss = 1.1223)\n",
      "Finished training after 740 epochs\n"
     ]
    }
   ],
   "source": [
    "model_loss, model_loss_record = train(tr_set, dv_set, model, config, device)"
   ]
  },
  {
   "cell_type": "code",
   "execution_count": 194,
   "metadata": {},
   "outputs": [
    {
     "data": {
      "image/png": "[encoded data removed]",
      "text/plain": [
       "<Figure size 432x288 with 1 Axes>"
      ]
     },
     "metadata": {
      "needs_background": "light"
     },
     "output_type": "display_data"
    }
   ],
   "source": [
    "plot_learning_curve(model_loss_record, title=\"DNN\")"
   ]
  },
  {
   "cell_type": "code",
   "execution_count": 168,
   "metadata": {},
   "outputs": [
    {
     "data": {
      "image/png": "[encoded data removed]",
      "text/plain": [
       "<Figure size 360x360 with 1 Axes>"
      ]
     },
     "metadata": {
      "needs_background": "light"
     },
     "output_type": "display_data"
    }
   ],
   "source": [
    "del model\n",
    "model = RegressionDNN(tr_set.dataset.dim).to(device)\n",
    "ckpt = torch.load(config['save_path'], map_location='cpu')  # Load your best model\n",
    "model.load_state_dict(ckpt)\n",
    "plot_pred(dv_set, model, device)  # Show prediction on the validation set"
   ]
  },
  {
   "cell_type": "code",
   "execution_count": 163,
   "metadata": {},
   "outputs": [
    {
     "name": "stdout",
     "output_type": "stream",
     "text": [
      "Saving results to ./preds/two_layers.csv\n"
     ]
    }
   ],
   "source": [
    "def save_pred(preds, file):\n",
    "    ''' Save predictions to specified file '''\n",
    "    print('Saving results to {}'.format(file))\n",
    "    with open(file, 'w') as fp:\n",
    "        writer = csv.writer(fp)\n",
    "        writer.writerow(['id', 'tested_positive'])\n",
    "        for i, p in enumerate(preds):\n",
    "            writer.writerow([i, p])\n",
    "\n",
    "preds = test(tt_set, model, device)  # predict COVID-19 cases with your model\n",
    "save_pred(preds, './preds/two_layers.csv')         # save prediction file to pred.csv"
   ]
  }
 ],
 "metadata": {
  "interpreter": {
   "hash": "492f57d4cfb8b70459dd26a494b945d3be6fba6764b2d0e1987cbaa8a9d2fffc"
  },
  "kernelspec": {
   "display_name": "Python 3.7.12 ('ml-course')",
   "language": "python",
   "name": "python3"
  },
  "language_info": {
   "codemirror_mode": {
    "name": "ipython",
    "version": 3
   },
   "file_extension": ".py",
   "mimetype": "text/x-python",
   "name": "python",
   "nbconvert_exporter": "python",
   "pygments_lexer": "ipython3",
   "version": "3.7.12"
  },
  "orig_nbformat": 4
 },
 "nbformat": 4,
 "nbformat_minor": 2
}
